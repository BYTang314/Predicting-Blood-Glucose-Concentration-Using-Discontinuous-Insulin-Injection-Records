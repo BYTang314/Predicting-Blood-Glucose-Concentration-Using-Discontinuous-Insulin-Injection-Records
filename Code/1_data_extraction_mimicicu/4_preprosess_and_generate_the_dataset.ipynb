{
 "cells": [
  {
   "cell_type": "markdown",
   "metadata": {
    "colab_type": "text",
    "id": "view-in-github"
   },
   "source": [
    "<a href=\"https://colab.research.google.com/github/aldo-arevalo/mimic-code/blob/master/notebooks/ICUglycemia/Notebooks/2_0_ara_pairing_II.ipynb\" target=\"_parent\"><img src=\"https://colab.research.google.com/assets/colab-badge.svg\" alt=\"Open In Colab\"/></a>"
   ]
  },
  {
   "cell_type": "markdown",
   "metadata": {
    "id": "5en0jQCTDqrF"
   },
   "source": [
    "# Filter and preprocess of the dataset used for training and testing"
   ]
  },
  {
   "cell_type": "markdown",
   "metadata": {
    "id": "ty_4JavhDqrH"
   },
   "source": [
    "## Overview\n",
    "\n",
    "This notebook contains further filtering and preprocessing of the datasets used in this study.  \n",
    "We we loaded the datafile __PAIR_WITH_BP.csv__ extracted in __3_get_relative_characteristics_and_make_further_filters__  .\n",
    "To run this program, please change the database connection settings.\n",
    "\n"
   ]
  },
  {
   "cell_type": "code",
   "execution_count": 57,
   "metadata": {
    "colab": {
     "base_uri": "https://localhost:8080/",
     "height": 35
    },
    "id": "RkYjKS0HDqrI",
    "outputId": "a82f34fc-13e0-4e06-dd1e-9498c54f1fd5"
   },
   "outputs": [],
   "source": [
    "import pandas as pd\n",
    "import numpy as np\n",
    "import matplotlib.pyplot as plt\n",
    "import seaborn as sns\n",
    "import matplotlib.colors as colors\n",
    "from scipy import stats\n",
    "from datetime import datetime\n",
    "import time\n",
    "import warnings\n",
    "#import psycopg2\n",
    "# Below imports are used to print out pretty pandas dataframes\n",
    "from IPython.display import display, HTML\n",
    "\n",
    "#conn = psycopg2.connect(database=\"mimiciv\", user=\"postgres\", password=\"tby314159\", host=\"127.0.0.1\", port=\"5432\",options=\"-c search_path=mimic_icu\")\n",
    "\n",
    "def convert_to_datetime(df,time_cols):\n",
    "    for t_col in time_cols:\n",
    "        df[t_col] = pd.to_datetime(df[t_col],utc=True)\n",
    "    \n",
    "    return(df)"
   ]
  },
  {
   "cell_type": "code",
   "execution_count": 58,
   "metadata": {},
   "outputs": [],
   "source": [
    "# read paired data from csv file \n",
    "origin_pair = pd.read_csv('./Data/PAIR_WITH_BP.csv')\n"
   ]
  },
  {
   "cell_type": "code",
   "execution_count": 59,
   "metadata": {},
   "outputs": [
    {
     "data": {
      "text/plain": [
       "Index(['subject_id', 'hadm_id', 'stay_id', 'icu_admissiontime',\n",
       "       'icu_dischargetime', 'los_icu_days', 'timer', 'starttime', 'glctimer',\n",
       "       'endtime', 'inputamount', 'input_itemid', 'patientweight', 'event',\n",
       "       'glc', 'item_glc', 'glcsource', 'chart_store', 'timediff_before',\n",
       "       'timediff_after', 'glc_before', 'clause_before', 'timer_before',\n",
       "       'anchor_age', 'glc_after', 'timer_after', 'hasnutrison', 'ethnicity',\n",
       "       'gender', 'sofa', 'creatinine', 'bun', 'bilirubin', 'bilirubin_direct',\n",
       "       'bilirubin_indirect', 'alt', 'ast', 'sbp', 'dbp', 'mbp'],\n",
       "      dtype='object')"
      ]
     },
     "execution_count": 59,
     "metadata": {},
     "output_type": "execute_result"
    }
   ],
   "source": [
    "origin_pair.columns"
   ]
  },
  {
   "cell_type": "code",
   "execution_count": 60,
   "metadata": {},
   "outputs": [
    {
     "name": "stdout",
     "output_type": "stream",
     "text": [
      "Total insulin injection event: 174280\n",
      "Of which:\n",
      "mathced glc_before: 174280\n",
      "mathced glc_after: 174280\n",
      "matched matched before and after: 174280\n",
      "matched matched before and after: 174280\n"
     ]
    }
   ],
   "source": [
    "\n",
    "#统计\n",
    "print(\"Total insulin injection event: {}\".format(origin_pair[origin_pair['inputamount']>0].shape[0]))\n",
    "print(\"Of which:\")\n",
    "print(\"mathced glc_before: {}\".format(origin_pair[origin_pair['glc_after']>0].shape[0]))\n",
    "print(\"mathced glc_after: {}\".format(origin_pair[origin_pair['glc_after']>0].shape[0]))\n",
    "x=origin_pair[origin_pair['glc_before']>0]\n",
    "y=origin_pair[origin_pair['glc_after']>0]\n",
    "print(\"matched matched before and after: {}\".format(x[x['glc_after']>0].shape[0]))\n",
    "print(\"matched matched before and after: {}\".format(y[y['glc_before']>0].shape[0]))"
   ]
  },
  {
   "cell_type": "markdown",
   "metadata": {},
   "source": [
    "# Leave the characteristics to be the input as the network"
   ]
  },
  {
   "cell_type": "code",
   "execution_count": 61,
   "metadata": {},
   "outputs": [],
   "source": [
    "data = origin_pair[[\"glc_before\",\"inputamount\",\"patientweight\",\"anchor_age\",\"gender\",\"hasnutrison\",\"ethnicity\",\"creatinine\",\"bun\",\"glc_after\",\"sbp\",\"dbp\"]]"
   ]
  },
  {
   "cell_type": "code",
   "execution_count": 65,
   "metadata": {},
   "outputs": [],
   "source": [
    "data = pd.read_csv('./Data/data_with_bp.csv')"
   ]
  },
  {
   "cell_type": "code",
   "execution_count": 66,
   "metadata": {},
   "outputs": [
    {
     "data": {
      "text/plain": [
       "587.0"
      ]
     },
     "execution_count": 66,
     "metadata": {},
     "output_type": "execute_result"
    }
   ],
   "source": [
    "data['patientweight'].max(axis=0)"
   ]
  },
  {
   "cell_type": "code",
   "execution_count": 67,
   "metadata": {},
   "outputs": [
    {
     "data": {
      "text/plain": [
       "86833"
      ]
     },
     "execution_count": 67,
     "metadata": {},
     "output_type": "execute_result"
    }
   ],
   "source": [
    "# Remove blood glucose greater than 400\n",
    "data = data[(data['glc_before']<400) & (data['glc_after']<400)]\n",
    "data.shape[0]"
   ]
  },
  {
   "cell_type": "code",
   "execution_count": 68,
   "metadata": {},
   "outputs": [
    {
     "data": {
      "text/plain": [
       "86833"
      ]
     },
     "execution_count": 68,
     "metadata": {},
     "output_type": "execute_result"
    }
   ],
   "source": [
    "# remove GLC_BEFORE<GLE_AFTER \n",
    "data = data [data['glc_before']>=data['glc_after']]\n",
    "data.shape[0]"
   ]
  },
  {
   "cell_type": "code",
   "execution_count": 69,
   "metadata": {},
   "outputs": [
    {
     "data": {
      "text/plain": [
       "0"
      ]
     },
     "execution_count": 69,
     "metadata": {},
     "output_type": "execute_result"
    }
   ],
   "source": [
    "data [data['hasnutrison']==1].shape[0]"
   ]
  },
  {
   "cell_type": "code",
   "execution_count": 70,
   "metadata": {},
   "outputs": [
    {
     "data": {
      "text/plain": [
       "86833"
      ]
     },
     "execution_count": 70,
     "metadata": {},
     "output_type": "execute_result"
    }
   ],
   "source": [
    "# remove records with nutrison intake\n",
    "data = data [data['hasnutrison']!=1]\n",
    "data.shape[0]"
   ]
  },
  {
   "cell_type": "code",
   "execution_count": 71,
   "metadata": {},
   "outputs": [
    {
     "data": {
      "text/plain": [
       "587.0"
      ]
     },
     "execution_count": 71,
     "metadata": {},
     "output_type": "execute_result"
    }
   ],
   "source": [
    "data['patientweight'].max(axis=0)"
   ]
  },
  {
   "cell_type": "code",
   "execution_count": 72,
   "metadata": {},
   "outputs": [
    {
     "data": {
      "text/plain": [
       "86833"
      ]
     },
     "execution_count": 72,
     "metadata": {},
     "output_type": "execute_result"
    }
   ],
   "source": [
    "# Remove outliers with body weight less than 20\n",
    "data = data[data[\"patientweight\"]>=20]\n",
    "data.shape[0]\n"
   ]
  },
  {
   "cell_type": "code",
   "execution_count": 73,
   "metadata": {},
   "outputs": [
    {
     "data": {
      "text/plain": [
       "86833"
      ]
     },
     "execution_count": 73,
     "metadata": {},
     "output_type": "execute_result"
    }
   ],
   "source": [
    "# Remove the item whose kidney index is null\n",
    "data =data [(data['creatinine']>0) & (data['bun']>0)]\n",
    "data.shape[0]\n"
   ]
  },
  {
   "cell_type": "code",
   "execution_count": 74,
   "metadata": {},
   "outputs": [
    {
     "data": {
      "text/plain": [
       "M    52891\n",
       "F    33942\n",
       "Name: gender, dtype: int64"
      ]
     },
     "execution_count": 74,
     "metadata": {},
     "output_type": "execute_result"
    }
   ],
   "source": [
    "data.gender.value_counts()"
   ]
  },
  {
   "cell_type": "code",
   "execution_count": 75,
   "metadata": {},
   "outputs": [
    {
     "data": {
      "text/plain": [
       "0.39088825676874"
      ]
     },
     "execution_count": 75,
     "metadata": {},
     "output_type": "execute_result"
    }
   ],
   "source": [
    "33942/86833"
   ]
  },
  {
   "cell_type": "code",
   "execution_count": 76,
   "metadata": {},
   "outputs": [
    {
     "data": {
      "text/plain": [
       "86833"
      ]
     },
     "execution_count": 76,
     "metadata": {},
     "output_type": "execute_result"
    }
   ],
   "source": [
    "# remove items with empty blood pressure values , 2452 items are removed\n",
    "data = data[(data[\"sbp\"]>0) & (data[\"dbp\"]>0)]\n",
    "data.shape[0]\n",
    "# 这里改成86833"
   ]
  },
  {
   "cell_type": "code",
   "execution_count": 77,
   "metadata": {},
   "outputs": [
    {
     "data": {
      "text/plain": [
       "M    52891\n",
       "F    33942\n",
       "Name: gender, dtype: int64"
      ]
     },
     "execution_count": 77,
     "metadata": {},
     "output_type": "execute_result"
    }
   ],
   "source": [
    "data.gender.value_counts()"
   ]
  },
  {
   "cell_type": "code",
   "execution_count": 78,
   "metadata": {},
   "outputs": [],
   "source": [
    "data.to_csv('./Data/final_data_records.csv', index=False,encoding='utf8', header = True)"
   ]
  },
  {
   "cell_type": "code",
   "execution_count": 79,
   "metadata": {},
   "outputs": [
    {
     "data": {
      "text/plain": [
       "count    86833.000000\n",
       "mean         4.692656\n",
       "std          3.604231\n",
       "min          0.100000\n",
       "25%          2.000000\n",
       "50%          4.000000\n",
       "75%          6.000000\n",
       "max         35.000000\n",
       "Name: inputamount, dtype: float64"
      ]
     },
     "execution_count": 79,
     "metadata": {},
     "output_type": "execute_result"
    }
   ],
   "source": [
    "data[\"inputamount\"].describe()"
   ]
  },
  {
   "cell_type": "code",
   "execution_count": 80,
   "metadata": {},
   "outputs": [],
   "source": [
    "data = pd.read_csv('./Data/final_data_records.csv')"
   ]
  },
  {
   "cell_type": "code",
   "execution_count": 81,
   "metadata": {},
   "outputs": [
    {
     "data": {
      "text/plain": [
       "WHITE                            58136\n",
       "UNKNOWN                          13982\n",
       "BLACK/AFRICAN AMERICAN            8549\n",
       "HISPANIC/LATINO                   3676\n",
       "ASIAN                             2285\n",
       "AMERICAN INDIAN/ALASKA NATIVE      205\n",
       "Name: ethnicity, dtype: int64"
      ]
     },
     "execution_count": 81,
     "metadata": {},
     "output_type": "execute_result"
    }
   ],
   "source": [
    "data.ethnicity.value_counts()"
   ]
  },
  {
   "cell_type": "code",
   "execution_count": 82,
   "metadata": {},
   "outputs": [
    {
     "data": {
      "text/plain": [
       "WHITE                            0.669515\n",
       "UNKNOWN                          0.161022\n",
       "BLACK/AFRICAN AMERICAN           0.098453\n",
       "HISPANIC/LATINO                  0.042334\n",
       "ASIAN                            0.026315\n",
       "AMERICAN INDIAN/ALASKA NATIVE    0.002361\n",
       "Name: ethnicity, dtype: float64"
      ]
     },
     "execution_count": 82,
     "metadata": {},
     "output_type": "execute_result"
    }
   ],
   "source": [
    "data.ethnicity.value_counts()/data.shape[0]"
   ]
  },
  {
   "cell_type": "code",
   "execution_count": 83,
   "metadata": {},
   "outputs": [
    {
     "data": {
      "text/plain": [
       "(86833, 12)"
      ]
     },
     "execution_count": 83,
     "metadata": {},
     "output_type": "execute_result"
    }
   ],
   "source": [
    "data.shape"
   ]
  },
  {
   "cell_type": "code",
   "execution_count": 55,
   "metadata": {},
   "outputs": [],
   "source": [
    "\n",
    "# min-max normalization and one-hot encoding of the characteristics\n",
    "data_matrix = np.zeros((data.shape[0],32))\n",
    "np.set_printoptions(suppress=True)\n",
    "\n",
    "\n",
    "def preprocess(data):\n",
    "    # Calculate the maximum, minimum and average values of the numerical characteristic in data set\n",
    "    numeric_items=[\"glc_before\",\"inputamount\",\"patientweight\",\"anchor_age\",\"creatinine\",\"bun\",\"sbp\",\"dbp\",\"glc_after\"]\n",
    "    \n",
    "    maximums, minimums, avgs,mid,std = data[ numeric_items].max(axis=0), data[ numeric_items].min(axis=0), \\\n",
    "                                 data[ numeric_items].sum(axis=0) / data[ numeric_items].shape[0],data[ numeric_items].median(),data[ numeric_items].std()\n",
    "    \n",
    "    # Record the normalization parameters of the characteristics, and normalize the data\n",
    "    max_values = maximums\n",
    "    min_values = minimums\n",
    "    avg_values = avgs\n",
    "    print(max_values,'\\n',min_values,'\\n',avg_values,'\\n',mid,'\\n',std)\n",
    "    \n",
    "    for i in range(0,8):\n",
    "        #\"glc_before\",\"inputamount\",\"patientweight\",\"anchor_age\",\"creatinine\",\"bun\",\"sbp\",\"dbp\"\n",
    "        data_matrix[:data.shape[0],i] = (data[numeric_items[i]] - minimums[i]) / (maximums[i] - minimums[i])\n",
    "    \n",
    "    # gender\n",
    "    data_matrix[:data.shape[0],8] = [(1 if row.gender=='F' else 0) for row in data.itertuples()]\n",
    "    \n",
    "   \n",
    "    #ethnicity\n",
    "    data_matrix[:data.shape[0],9:15] = pd.get_dummies(data.ethnicity).values\n",
    "  \n",
    "    print(pd.get_dummies(data.ethnicity).head())\n",
    "    \n",
    "    # square\n",
    "    for i in range(0,8):\n",
    "        data_matrix[:data.shape[0],i+15] = data_matrix[:data.shape[0],i] ** 2\n",
    "        \n",
    "     # sqrt\n",
    "    for i in range(0,8):\n",
    "        data_matrix[:data.shape[0],i+23] = data_matrix[:data.shape[0],i] ** 0.5\n",
    "    \n",
    "  \n",
    "    data_matrix[:data.shape[0],31] =  data[\"glc_after\"] \n",
    "    \n",
    "    print(\"modify the values<0 to 0\")\n",
    "    for row in data_matrix:\n",
    "        if row[0]<0:\n",
    "            print(row)\n",
    "            row[0] = 0\n",
    "            row[15] = 0\n",
    "            row[23] = 0\n",
    "            print(row)\n",
    "    print(\"modify over\")\n",
    "    print(data_matrix[0])\n",
    "    print(data_matrix.shape)\n",
    "    \n",
    "    return  data_matrix\n"
   ]
  },
  {
   "cell_type": "code",
   "execution_count": 56,
   "metadata": {},
   "outputs": [
    {
     "name": "stdout",
     "output_type": "stream",
     "text": [
      "glc_before       399.0\n",
      "inputamount       35.0\n",
      "patientweight    587.0\n",
      "anchor_age        91.0\n",
      "creatinine        22.6\n",
      "bun              283.0\n",
      "sbp              228.0\n",
      "dbp              156.0\n",
      "glc_after        398.0\n",
      "dtype: float64 \n",
      " glc_before       59.000000\n",
      "inputamount       0.100000\n",
      "patientweight    23.900000\n",
      "anchor_age       18.000000\n",
      "creatinine        0.100000\n",
      "bun               2.000000\n",
      "sbp              39.000000\n",
      "dbp              14.714286\n",
      "glc_after        17.000000\n",
      "dtype: float64 \n",
      " glc_before       198.489100\n",
      "inputamount        4.692656\n",
      "patientweight     86.856435\n",
      "anchor_age        65.351733\n",
      "creatinine         1.614509\n",
      "bun               34.269517\n",
      "sbp              119.266791\n",
      "dbp               60.204563\n",
      "glc_after        155.084369\n",
      "dtype: float64 \n",
      " glc_before       184.00\n",
      "inputamount        4.00\n",
      "patientweight     83.70\n",
      "anchor_age        67.00\n",
      "creatinine         1.10\n",
      "bun               25.00\n",
      "sbp              116.50\n",
      "dbp               58.75\n",
      "glc_after        146.00\n",
      "dtype: float64 \n",
      " glc_before       56.450020\n",
      "inputamount       3.604231\n",
      "patientweight    25.076450\n",
      "anchor_age       13.764470\n",
      "creatinine        1.499464\n",
      "bun              26.441261\n",
      "sbp              19.439338\n",
      "dbp              12.589978\n",
      "glc_after        50.577585\n",
      "dtype: float64\n",
      "   AMERICAN INDIAN/ALASKA NATIVE  ASIAN  BLACK/AFRICAN AMERICAN  \\\n",
      "0                              0      0                       0   \n",
      "1                              0      0                       0   \n",
      "2                              0      0                       1   \n",
      "3                              0      0                       0   \n",
      "4                              0      0                       0   \n",
      "\n",
      "   HISPANIC/LATINO  UNKNOWN  WHITE  \n",
      "0                0        0      1  \n",
      "1                1        0      0  \n",
      "2                0        0      0  \n",
      "3                1        0      0  \n",
      "4                0        0      1  \n",
      "modify the values<0 to 0\n",
      "modify over\n",
      "[  0.20588235   0.05444126   0.14402415   0.46575342   0.04444444\n",
      "   0.06761566   0.41005291   0.32052578   0.           0.\n",
      "   0.           0.           0.           0.           1.\n",
      "   0.04238754   0.00296385   0.02074296   0.21692625   0.00197531\n",
      "   0.00457188   0.16814339   0.10273678   0.45374261   0.23332651\n",
      "   0.37950514   0.6824613    0.21081851   0.26003011   0.64035374\n",
      "   0.56614997 125.        ]\n",
      "(86833, 32)\n"
     ]
    }
   ],
   "source": [
    "data_matrix = preprocess(data)"
   ]
  },
  {
   "cell_type": "code",
   "execution_count": 84,
   "metadata": {},
   "outputs": [
    {
     "name": "stdout",
     "output_type": "stream",
     "text": [
      "86833\n"
     ]
    }
   ],
   "source": [
    "import random\n",
    "# random shuffle of the dataset\n",
    "index = [i for i in range(len(data_matrix))] \n",
    "set_lst=set(index)\n",
    "random.shuffle(index)\n",
    "print(len(index))\n",
    "data_matrix = data_matrix[index]\n"
   ]
  },
  {
   "cell_type": "code",
   "execution_count": 85,
   "metadata": {},
   "outputs": [],
   "source": [
    "np.save(\"../../Data/alldata.npy\",data_matrix)"
   ]
  },
  {
   "cell_type": "code",
   "execution_count": 86,
   "metadata": {},
   "outputs": [
    {
     "name": "stdout",
     "output_type": "stream",
     "text": [
      "(86833, 32)\n",
      "num of train_data:69467\n",
      "num of test_data:17366\n",
      "(69467, 32) (17366, 32)\n"
     ]
    }
   ],
   "source": [
    "\n",
    "#data = data.values\n",
    "print(data_matrix.shape)\n",
    "#Split the original data set into training set and test set\n",
    "#Here, 80% of the data are used for training and 20% of the data are used for testing\n",
    "#There is no intersection between the test set and the training set\n",
    "\n",
    "test_count = int(data_matrix.shape[0] * 0.2)\n",
    "train_count =data_matrix.shape[0] - test_count\n",
    "print(\"num of train_data:{}\".format(train_count))\n",
    "print(\"num of test_data:{}\".format(test_count))\n",
    "\n",
    "train_data = data_matrix[:train_count]\n",
    "\n",
    "test_data =data_matrix[train_count:]\n",
    "print(train_data.shape,test_data.shape)\n",
    "# Save training set and testing set respectively\n",
    "\n",
    "np.save(\"../../Data/traindata.npy\",train_data)\n",
    "np.save(\"../../Data/testdata.npy\",test_data)"
   ]
  },
  {
   "cell_type": "code",
   "execution_count": 129,
   "metadata": {},
   "outputs": [],
   "source": [
    "#train_data = np.load(\"./Data/traindata.npy\")\n",
    "#test_data = np.load(\"./Data/testdata.npy\")"
   ]
  },
  {
   "cell_type": "code",
   "execution_count": null,
   "metadata": {},
   "outputs": [],
   "source": []
  }
 ],
 "metadata": {
  "colab": {
   "collapsed_sections": [],
   "include_colab_link": true,
   "name": "Copy of 2.0-ara-pairing-II.ipynb",
   "provenance": [],
   "toc_visible": true
  },
  "kernelspec": {
   "display_name": "Python [conda env:tensorflow]",
   "language": "python",
   "name": "conda-env-tensorflow-py"
  },
  "language_info": {
   "codemirror_mode": {
    "name": "ipython",
    "version": 3
   },
   "file_extension": ".py",
   "mimetype": "text/x-python",
   "name": "python",
   "nbconvert_exporter": "python",
   "pygments_lexer": "ipython3",
   "version": "3.8.12"
  }
 },
 "nbformat": 4,
 "nbformat_minor": 1
}
